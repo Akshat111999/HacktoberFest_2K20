import google.datalab.bigquery as bq

sql = "SELECT image_url, label FROM demos.coastline_images"
df = bq.Query(sql).execute().result().to_dataframe()
print 'Have a total of {} labeled images'.format(len(df))
df.head()

import matplotlib.pyplot as plt
import google.datalab.bigquery as bq
df = bq.Query("SELECT image_url, label FROM demos.coastline_images").execute().result().to_dataframe()
df['label'].value_counts().plot(kind='bar', title='Full dataset');

%bash
QUERY='SELECT image_url, label FROM '
TABLE="${PROJECT_ID}.demos.coastline_images"
SUBSAMPLE='WHERE (short_label = "2A" OR short_label = "3A" OR short_label = "9") AND MOD(ABS(FARM_FINGERPRINT(image_url)), 10) = 0'
bq rm -f demos.coastline_train
bq query --use_legacy_sql=false  --destination_table=demos.coastline_train "$QUERY \`$TABLE\` $SUBSAMPLE"

import matplotlib.pyplot as plt
import google.datalab.bigquery as bq
train_df = bq.Query("SELECT image_url, label FROM demos.coastline_train").execute().result().to_dataframe()
train_df['label'].value_counts().plot(kind='bar', title='Training dataset');

bucket = 'gs://' + datalab_project_id() + '-txf'
preprocessed_dir = bucket + '/preprocessed'
model_dir = bucket + '/model'

import subprocess
print 'Creating bucket named {}'.format(bucket)
subprocess.check_call('gsutil mb {}'.format(bucket).split());

import mltoolbox.image.classification as model
from google.datalab.ml import *
import os

train_set = BigQueryDataSet("SELECT image_url, label FROM demos.coastline_train")
job = model.preprocess_async(train_set, preprocessed_dir, cloud={'max_num_workers': 4})

import mltoolbox.image.classification as model
from google.datalab.ml import *
job = model.train_async(preprocessed_dir, 32, 5000, model_dir,  # batchsize, numsteps
                  cloud=CloudTrainingConfig('us-central1', 'BASIC'))
                  
                  
                  
 Models().create('coastline')
ModelVersions('coastline').deploy('v1', model_dir)

images = [
  'gs://tamucc_coastline/esi_images/IMG_2007_SecDE_Spr12.jpg', # sheltered tidal flats
  'gs://tamucc_coastline/esi_images/IMG_0297_SecBC_Spr12.jpg', # scarps and steep slopes in clay
  'gs://tamucc_coastline/esi_images/IMG_3264_SecDE_Spr12.jpg', # sand-grained beaches
]
# resize=True because otherwise the images are too large to send for online prediction.
model.predict('coastline.v1', images, resize=True, cloud=True)

